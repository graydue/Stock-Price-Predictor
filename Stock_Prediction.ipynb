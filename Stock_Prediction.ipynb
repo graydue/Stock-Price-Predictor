{
  "nbformat": 4,
  "nbformat_minor": 0,
  "metadata": {
    "colab": {
      "name": "Stock_Prediction.ipynb",
      "provenance": []
    },
    "kernelspec": {
      "name": "python3",
      "display_name": "Python 3"
    },
    "language_info": {
      "name": "python"
    }
  },
  "cells": [
    {
      "cell_type": "markdown",
      "metadata": {
        "id": "UTh9ZgjSVai9"
      },
      "source": [
        "Data processing: get a .csv file from *finance.yahoo.com*;\n",
        "Example stock: https://finance.yahoo.com/quote/NOK/history?p=NOK;\n",
        "I used 5 year time periods"
      ]
    },
    {
      "cell_type": "code",
      "metadata": {
        "id": "4ZRadNKE3411"
      },
      "source": [
        "import pandas as pd\n",
        "\n",
        "#Upload '.csv' file of any stock and input it here* in this case, we use \"NOK.csv\"\n",
        "df = pd.read_csv(\"AAPL.csv\")\n",
        "df['Date'] = pd.to_datetime(df.Date, format = '%Y-%m-%d')\n",
        "\n",
        "data = df[['Date', 'Close']].copy()\n",
        "\n",
        "\n",
        "data['Year'] = \"\"\n",
        "data['Month'] = \"\"\n",
        "data['Week'] = \"\"\n",
        "data['Day'] = \"\"\n",
        "data['7DAYS'] = \"\"\n",
        "data['5DAYS'] = \"\"\n",
        "\n",
        "# Create features from date and create moving averages of 7 & 5 days\n",
        "for i in range(len(data)):\n",
        "    data.at[i, 'Year'] = data['Date'][i].year\n",
        "    data.at[i, 'Month'] = data['Date'][i].month\n",
        "    data.at[i, 'Week'] = data['Date'][i].week\n",
        "    data.at[i, 'Day'] = data['Date'][i].day\n",
        "    if i >= 7:\n",
        "        seven_avg = 0\n",
        "        for j in range(1, 8):\n",
        "            seven_avg += data.at[i-j, 'Close']\n",
        "        data.at[i, '7DAYS'] = seven_avg/7\n",
        "    else:\n",
        "        data.at[i, '7DAYS'] = data.at[i, 'Close']\n",
        "    if i >= 5:\n",
        "        five_avg = 0\n",
        "        for j in range(1, 6):\n",
        "            five_avg += data.at[i-j, 'Close']\n",
        "        data.at[i, '5DAYS'] = five_avg/5\n",
        "    else:\n",
        "        data.at[i, '5DAYS'] = data.at[i, 'Close']\n",
        "        \n",
        "        \n",
        "# 1000 : 258\n",
        "\n",
        "x_train = data.drop(['Close', 'Date'], axis = 1)[:1000]\n",
        "y_train = data['Close'][:1000]\n",
        "\n",
        "#Drop moving average from test data because we will need to create new average on every prediction\n",
        "x_test = data.drop(['Close', 'Date', '7DAYS', '5DAYS'], axis = 1)[1000:]\n",
        "y_test = data['Close'][1000:]\n",
        "\n",
        "x_test['7DAYS'] = \"\"\n",
        "x_test['5DAYS'] = \"\""
      ],
      "execution_count": null,
      "outputs": []
    },
    {
      "cell_type": "code",
      "metadata": {
        "colab": {
          "base_uri": "https://localhost:8080/",
          "height": 265
        },
        "id": "4g3NJd6lZ61n",
        "outputId": "b3ae2e9c-a6db-4759-a8e4-fe6146e4efdd"
      },
      "source": [
        "from sklearn.linear_model import LinearRegression\n",
        "import matplotlib.pyplot as plt\n",
        "# Linear Regression\n",
        "linear_model = LinearRegression()\n",
        "linear_model.fit(x_train, y_train)\n",
        "\n",
        "#Create moving averages based on past closing prices and predicts price for day\n",
        "past_closes = data['Close'][len(x_train)-8:len(x_train)].to_list()\n",
        "for i in range(len(x_test)):\n",
        "    seven_avg = 0\n",
        "    five_avg = 0\n",
        "    for j in range(0, 7):\n",
        "        seven_avg += past_closes[len(past_closes)-1-j]\n",
        "    x_test.at[i+1000, '7DAYS'] = seven_avg/7\n",
        "    for j in range(0, 5):\n",
        "        five_avg += past_closes[len(past_closes)-1-j]\n",
        "    x_test.at[i+1000, '5DAYS'] = five_avg/5\n",
        "    test = x_test.iloc[[i]]\n",
        "    #Predict price and add it to the list of past closing prices\n",
        "    past_closes.append(linear_model.predict(x_test.iloc[[i]]))\n",
        "\n",
        "#Plot Stock prices with predicted prices on top\n",
        "plt.plot(df['Close'])\n",
        "x_test['Predictions'] = past_closes[8:]\n",
        "plt.plot(x_test['Predictions'])\n",
        "plt.show()\n",
        "#Drop the predictions for other models\n",
        "x_test.drop(['Predictions'], axis = 1, inplace = True)"
      ],
      "execution_count": null,
      "outputs": [
        {
          "output_type": "display_data",
          "data": {
            "image/png": "[encoded data removed]",
            "text/plain": [
              "<Figure size 432x288 with 1 Axes>"
            ]
          },
          "metadata": {
            "tags": [],
            "needs_background": "light"
          }
        }
      ]
    },
    {
      "cell_type": "code",
      "metadata": {
        "colab": {
          "base_uri": "https://localhost:8080/"
        },
        "id": "U1327ID3g3Go",
        "outputId": "0ecff906-a1b3-4575-b633-df55fcf55709"
      },
      "source": [
        "from sklearn import metrics\n",
        "\n",
        "print('Mean Absolute Error:', metrics.mean_absolute_error(y_test, past_closes[8:]))  \n",
        "print('Root Mean Squared Error:', np.sqrt(metrics.mean_squared_error(y_test, past_closes[8:])))\n",
        "print('R2 Score:', metrics.r2_score(y_test, past_closes[8:]))"
      ],
      "execution_count": null,
      "outputs": [
        {
          "output_type": "stream",
          "text": [
            "Mean Absolute Error: 39.37526919338307\n",
            "Root Mean Squared Error: 42.574053113485185\n",
            "R2 Score: -4.9278000985175545\n"
          ],
          "name": "stdout"
        }
      ]
    },
    {
      "cell_type": "code",
      "metadata": {
        "colab": {
          "base_uri": "https://localhost:8080/"
        },
        "id": "_yOk5Du6aIM8",
        "outputId": "d54761d5-6004-44b2-82e3-4def4f043db5"
      },
      "source": [
        "from sklearn.neighbors import KNeighborsRegressor\n",
        "import numpy as np\n",
        "# KNN\n",
        "rmse = []\n",
        "#find best rmse\n",
        "for i in range(1, 30):\n",
        "    knn_model = KNeighborsRegressor(n_neighbors = i)\n",
        "    knn_model.fit(x_train, y_train)\n",
        "    knn_preds = knn_model.predict(x_train)\n",
        "    rmse.append(np.sqrt(np.mean(np.power((np.array(y_train)-np.array(knn_preds)),2))))\n",
        "print(rmse)"
      ],
      "execution_count": null,
      "outputs": [
        {
          "output_type": "stream",
          "text": [
            "[0.0, 0.4788750160827767, 0.5962097578653227, 0.6901112684134126, 0.7411635711788741, 0.8407740377454774, 0.9403983169978343, 1.0334412653030403, 1.1215634919293218, 1.192176873298183, 1.253077223455194, 1.3037680532868912, 1.3543864963222563, 1.3991830486957684, 1.4394305942689254, 1.4685724845500816, 1.495654760514078, 1.5207893245028434, 1.5312354249642592, 1.5509653470500284, 1.5645120990493793, 1.584813048260295, 1.6091792639906595, 1.6213662905192545, 1.6480990264190105, 1.6600354329326827, 1.6697482369620484, 1.6858784846369383, 1.6966846076256106]\n"
          ],
          "name": "stdout"
        }
      ]
    },
    {
      "cell_type": "code",
      "metadata": {
        "colab": {
          "base_uri": "https://localhost:8080/",
          "height": 265
        },
        "id": "luMSbmGqaEoc",
        "outputId": "87893369-0583-4e0e-d42f-be0b4328caaf"
      },
      "source": [
        "from sklearn.neighbors import KNeighborsRegressor\n",
        "#k = 1 where rmse was found to be: 0.097\n",
        "knn_model = KNeighborsRegressor(n_neighbors = 1)\n",
        "knn_model.fit(x_train, y_train)\n",
        "\n",
        "#Create moving averages based on past closing prices\n",
        "past_closes = data['Close'][len(x_train)-8:len(x_train)].to_list()\n",
        "for i in range(len(x_test)):\n",
        "    seven_avg = 0\n",
        "    five_avg = 0\n",
        "    for j in range(0, 7):\n",
        "        seven_avg += past_closes[len(past_closes)-1-j]\n",
        "    x_test.at[i+1000, '7DAYS'] = seven_avg/7\n",
        "    for j in range(0, 5):\n",
        "        five_avg += past_closes[len(past_closes)-1-j]\n",
        "    x_test.at[i+1000, '5DAYS'] = five_avg/5\n",
        "    test = x_test.iloc[[i]]\n",
        "    #Predict price and add it to the list of past closing prices\n",
        "    past_closes.append(knn_model.predict(x_test.iloc[[i]]))\n",
        "\n",
        "#Plot Stock prices with predicted prices on top\n",
        "plt.plot(df['Close'])\n",
        "x_test['Predictions'] = past_closes[8:]\n",
        "plt.plot(x_test['Predictions'])\n",
        "plt.show()\n",
        "#Drop the predictions for other models\n",
        "x_test.drop(['Predictions'], axis = 1, inplace = True)"
      ],
      "execution_count": null,
      "outputs": [
        {
          "output_type": "display_data",
          "data": {
            "image/png": "[encoded data removed]",
            "text/plain": [
              "<Figure size 432x288 with 1 Axes>"
            ]
          },
          "metadata": {
            "tags": [],
            "needs_background": "light"
          }
        }
      ]
    },
    {
      "cell_type": "code",
      "metadata": {
        "colab": {
          "base_uri": "https://localhost:8080/"
        },
        "id": "aKHSlZGfg_Um",
        "outputId": "6a5f6745-d3cc-4108-ee36-5f2c1d0cd7fb"
      },
      "source": [
        "from sklearn import metrics\n",
        "\n",
        "print('Mean Absolute Error:', metrics.mean_absolute_error(y_test, past_closes[8:]))  \n",
        "print('Root Mean Squared Error:', np.sqrt(metrics.mean_squared_error(y_test, past_closes[8:])))\n",
        "print('R2 Score:', metrics.r2_score(y_test, past_closes[8:]))"
      ],
      "execution_count": null,
      "outputs": [
        {
          "output_type": "stream",
          "text": [
            "Mean Absolute Error: 44.99924381007752\n",
            "Root Mean Squared Error: 48.439771126687674\n",
            "R2 Score: -6.673751288746586\n"
          ],
          "name": "stdout"
        }
      ]
    },
    {
      "cell_type": "code",
      "metadata": {
        "id": "f7ZaK0WbZJ1O",
        "colab": {
          "base_uri": "https://localhost:8080/",
          "height": 265
        },
        "outputId": "6ef3b952-fa7b-4fdf-ebd5-4dc8a464d5a4"
      },
      "source": [
        "from sklearn.ensemble import RandomForestRegressor\n",
        "#Random Forest\n",
        "# Instantiate model with 100 decision trees\n",
        "rf = RandomForestRegressor(n_estimators = 100)\n",
        "# Train the model on training data\n",
        "rf.fit(x_train, y_train);\n",
        "\n",
        "#Create moving averages based on past closing prices\n",
        "past_closes = data['Close'][len(x_train)-8:len(x_train)].to_list()\n",
        "for i in range(len(x_test)):\n",
        "    seven_avg = 0\n",
        "    five_avg = 0\n",
        "    for j in range(0, 7):\n",
        "        seven_avg += past_closes[len(past_closes)-1-j]\n",
        "    x_test.at[i+1000, '7DAYS'] = seven_avg/7\n",
        "    for j in range(0, 5):\n",
        "        five_avg += past_closes[len(past_closes)-1-j]\n",
        "    x_test.at[i+1000, '5DAYS'] = five_avg/5\n",
        "    test = x_test.iloc[[i]]\n",
        "    #Predict price and add it to the list of past closing prices\n",
        "    past_closes.append(rf.predict(x_test.iloc[[i]]))\n",
        "\n",
        "#Plot Stock prices with predicted prices on top\n",
        "plt.plot(df['Close'])\n",
        "x_test['Predictions'] = past_closes[8:]\n",
        "plt.plot(x_test['Predictions'])\n",
        "plt.show()\n",
        "#Drop the predictions for other models\n",
        "x_test.drop(['Predictions'], axis = 1, inplace = True)\n"
      ],
      "execution_count": null,
      "outputs": [
        {
          "output_type": "display_data",
          "data": {
            "image/png": "[encoded data removed]",
            "text/plain": [
              "<Figure size 432x288 with 1 Axes>"
            ]
          },
          "metadata": {
            "tags": [],
            "needs_background": "light"
          }
        }
      ]
    },
    {
      "cell_type": "code",
      "metadata": {
        "colab": {
          "base_uri": "https://localhost:8080/"
        },
        "id": "tr2sCu5_gGKL",
        "outputId": "98f6e1aa-4d63-4a2b-eb7e-da709ef7914b"
      },
      "source": [
        "from sklearn import metrics\n",
        "\n",
        "print('Mean Absolute Error:', metrics.mean_absolute_error(y_test, past_closes[8:]))  \n",
        "print('Root Mean Squared Error:', np.sqrt(metrics.mean_squared_error(y_test, past_closes[8:])))\n",
        "print('R2 Score:', metrics.r2_score(y_test, past_closes[8:]))\n"
      ],
      "execution_count": null,
      "outputs": [
        {
          "output_type": "stream",
          "text": [
            "Mean Absolute Error: 42.69698085151164\n",
            "Root Mean Squared Error: 45.83490710972934\n",
            "R2 Score: -5.870625318423392\n"
          ],
          "name": "stdout"
        }
      ]
    }
  ]
}